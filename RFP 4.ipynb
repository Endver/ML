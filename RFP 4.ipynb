{
 "cells": [
  {
   "cell_type": "code",
   "execution_count": 1,
   "id": "73664491",
   "metadata": {},
   "outputs": [],
   "source": [
    "import pandas as pd\n",
    "import numpy as np\n",
    "import requests\n",
    "import time\n",
    "from concurrent.futures import ThreadPoolExecutor, as_completed\n",
    "import json\n",
    "import os"
   ]
  },
  {
   "cell_type": "code",
   "execution_count": 2,
   "id": "41af3f67",
   "metadata": {},
   "outputs": [],
   "source": [
    "df = pd.read_csv(\"final_data (1).csv\")"
   ]
  },
  {
   "cell_type": "code",
   "execution_count": 3,
   "id": "1ab5cdec",
   "metadata": {},
   "outputs": [
    {
     "data": {
      "text/html": [
       "<div>\n",
       "<style scoped>\n",
       "    .dataframe tbody tr th:only-of-type {\n",
       "        vertical-align: middle;\n",
       "    }\n",
       "\n",
       "    .dataframe tbody tr th {\n",
       "        vertical-align: top;\n",
       "    }\n",
       "\n",
       "    .dataframe thead th {\n",
       "        text-align: right;\n",
       "    }\n",
       "</style>\n",
       "<table border=\"1\" class=\"dataframe\">\n",
       "  <thead>\n",
       "    <tr style=\"text-align: right;\">\n",
       "      <th></th>\n",
       "      <th>pos</th>\n",
       "      <th>artist_name</th>\n",
       "      <th>track_uri</th>\n",
       "      <th>artist_uri</th>\n",
       "      <th>track_name</th>\n",
       "      <th>album_uri</th>\n",
       "      <th>duration_ms</th>\n",
       "      <th>album_name</th>\n",
       "      <th>Genre</th>\n",
       "      <th>releaseYear</th>\n",
       "    </tr>\n",
       "  </thead>\n",
       "  <tbody>\n",
       "    <tr>\n",
       "      <th>0</th>\n",
       "      <td>0</td>\n",
       "      <td>Missy Elliott</td>\n",
       "      <td>spotify:track:0UaMYEvWZi0ZqiDOoHU3YI</td>\n",
       "      <td>spotify:artist:2wIVse2owClT7go1WT98tk</td>\n",
       "      <td>Lose Control (feat. Ciara &amp; Fat Man Scoop)</td>\n",
       "      <td>spotify:album:6vV5UrXcfyQD1wu4Qo2I9K</td>\n",
       "      <td>226863</td>\n",
       "      <td>The Cookbook</td>\n",
       "      <td>hip hop</td>\n",
       "      <td>2005.0</td>\n",
       "    </tr>\n",
       "    <tr>\n",
       "      <th>1</th>\n",
       "      <td>1</td>\n",
       "      <td>Britney Spears</td>\n",
       "      <td>spotify:track:6I9VzXrHxO9rA9A5euc8Ak</td>\n",
       "      <td>spotify:artist:26dSoYclwsYLMAKD3tpOr4</td>\n",
       "      <td>Toxic</td>\n",
       "      <td>spotify:album:0z7pVBGOD7HCIB7S8eLkLI</td>\n",
       "      <td>198800</td>\n",
       "      <td>In The Zone</td>\n",
       "      <td>pop</td>\n",
       "      <td>2003.0</td>\n",
       "    </tr>\n",
       "    <tr>\n",
       "      <th>2</th>\n",
       "      <td>4</td>\n",
       "      <td>Shaggy</td>\n",
       "      <td>spotify:track:1lzr43nnXAijIGYnCT8M8H</td>\n",
       "      <td>spotify:artist:5EvFsr3kj42KNv97ZEnqij</td>\n",
       "      <td>It Wasn't Me</td>\n",
       "      <td>spotify:album:6NmFmPX56pcLBOFMhIiKvF</td>\n",
       "      <td>227600</td>\n",
       "      <td>Hot Shot</td>\n",
       "      <td>reggae</td>\n",
       "      <td>2000.0</td>\n",
       "    </tr>\n",
       "    <tr>\n",
       "      <th>3</th>\n",
       "      <td>5</td>\n",
       "      <td>Usher</td>\n",
       "      <td>spotify:track:0XUfyU2QviPAs6bxSpXYG4</td>\n",
       "      <td>spotify:artist:23zg3TcAtWQy7J6upgbUnj</td>\n",
       "      <td>Yeah!</td>\n",
       "      <td>spotify:album:0vO0b1AvY49CPQyVisJLj0</td>\n",
       "      <td>250373</td>\n",
       "      <td>Confessions</td>\n",
       "      <td>r&amp;b</td>\n",
       "      <td>2004.0</td>\n",
       "    </tr>\n",
       "    <tr>\n",
       "      <th>4</th>\n",
       "      <td>6</td>\n",
       "      <td>Usher</td>\n",
       "      <td>spotify:track:68vgtRHr7iZHpzGpon6Jlo</td>\n",
       "      <td>spotify:artist:23zg3TcAtWQy7J6upgbUnj</td>\n",
       "      <td>My Boo</td>\n",
       "      <td>spotify:album:1RM6MGv6bcl6NrAG8PGoZk</td>\n",
       "      <td>223440</td>\n",
       "      <td>Confessions</td>\n",
       "      <td>r&amp;b</td>\n",
       "      <td>2004.0</td>\n",
       "    </tr>\n",
       "  </tbody>\n",
       "</table>\n",
       "</div>"
      ],
      "text/plain": [
       "   pos     artist_name                             track_uri  \\\n",
       "0    0   Missy Elliott  spotify:track:0UaMYEvWZi0ZqiDOoHU3YI   \n",
       "1    1  Britney Spears  spotify:track:6I9VzXrHxO9rA9A5euc8Ak   \n",
       "2    4          Shaggy  spotify:track:1lzr43nnXAijIGYnCT8M8H   \n",
       "3    5           Usher  spotify:track:0XUfyU2QviPAs6bxSpXYG4   \n",
       "4    6           Usher  spotify:track:68vgtRHr7iZHpzGpon6Jlo   \n",
       "\n",
       "                              artist_uri  \\\n",
       "0  spotify:artist:2wIVse2owClT7go1WT98tk   \n",
       "1  spotify:artist:26dSoYclwsYLMAKD3tpOr4   \n",
       "2  spotify:artist:5EvFsr3kj42KNv97ZEnqij   \n",
       "3  spotify:artist:23zg3TcAtWQy7J6upgbUnj   \n",
       "4  spotify:artist:23zg3TcAtWQy7J6upgbUnj   \n",
       "\n",
       "                                   track_name  \\\n",
       "0  Lose Control (feat. Ciara & Fat Man Scoop)   \n",
       "1                                       Toxic   \n",
       "2                                It Wasn't Me   \n",
       "3                                       Yeah!   \n",
       "4                                      My Boo   \n",
       "\n",
       "                              album_uri  duration_ms    album_name    Genre  \\\n",
       "0  spotify:album:6vV5UrXcfyQD1wu4Qo2I9K       226863  The Cookbook  hip hop   \n",
       "1  spotify:album:0z7pVBGOD7HCIB7S8eLkLI       198800   In The Zone      pop   \n",
       "2  spotify:album:6NmFmPX56pcLBOFMhIiKvF       227600      Hot Shot   reggae   \n",
       "3  spotify:album:0vO0b1AvY49CPQyVisJLj0       250373   Confessions      r&b   \n",
       "4  spotify:album:1RM6MGv6bcl6NrAG8PGoZk       223440   Confessions      r&b   \n",
       "\n",
       "   releaseYear  \n",
       "0       2005.0  \n",
       "1       2003.0  \n",
       "2       2000.0  \n",
       "3       2004.0  \n",
       "4       2004.0  "
      ]
     },
     "execution_count": 3,
     "metadata": {},
     "output_type": "execute_result"
    }
   ],
   "source": [
    "df.head()"
   ]
  },
  {
   "cell_type": "code",
   "execution_count": 4,
   "id": "a7c6bd69",
   "metadata": {},
   "outputs": [
    {
     "name": "stdout",
     "output_type": "stream",
     "text": [
      "<class 'pandas.core.frame.DataFrame'>\n",
      "RangeIndex: 147519 entries, 0 to 147518\n",
      "Data columns (total 10 columns):\n",
      " #   Column       Non-Null Count   Dtype  \n",
      "---  ------       --------------   -----  \n",
      " 0   pos          147519 non-null  int64  \n",
      " 1   artist_name  147519 non-null  object \n",
      " 2   track_uri    147519 non-null  object \n",
      " 3   artist_uri   147519 non-null  object \n",
      " 4   track_name   147518 non-null  object \n",
      " 5   album_uri    147519 non-null  object \n",
      " 6   duration_ms  147519 non-null  int64  \n",
      " 7   album_name   147519 non-null  object \n",
      " 8   Genre        147519 non-null  object \n",
      " 9   releaseYear  124588 non-null  float64\n",
      "dtypes: float64(1), int64(2), object(7)\n",
      "memory usage: 11.3+ MB\n"
     ]
    }
   ],
   "source": [
    "df.info()"
   ]
  },
  {
   "cell_type": "code",
   "execution_count": 5,
   "id": "0d5335e7",
   "metadata": {},
   "outputs": [
    {
     "data": {
      "text/plain": [
       "Index(['pos', 'artist_name', 'track_uri', 'artist_uri', 'track_name',\n",
       "       'album_uri', 'duration_ms', 'album_name', 'Genre', 'releaseYear'],\n",
       "      dtype='object')"
      ]
     },
     "execution_count": 5,
     "metadata": {},
     "output_type": "execute_result"
    }
   ],
   "source": [
    "df.columns"
   ]
  },
  {
   "cell_type": "code",
   "execution_count": 6,
   "id": "9e37edc3",
   "metadata": {},
   "outputs": [
    {
     "name": "stdout",
     "output_type": "stream",
     "text": [
      "(983, 10)\n"
     ]
    }
   ],
   "source": [
    "import pandas as pd\n",
    "\n",
    "# Load your dataset\n",
    "df = pd.read_csv(\"final_data (1).csv\")\n",
    "\n",
    "# Compute fraction for 1/150th\n",
    "fraction = 1/150  \n",
    "\n",
    "# Randomly sample 1/150th of the data\n",
    "subset = df.sample(frac=fraction, random_state=42)  \n",
    "\n",
    "# Display the shape to verify\n",
    "print(subset.shape)  \n",
    "\n",
    "# Save the subset if needed\n",
    "subset.to_csv(\"subset_data.csv\", index=False)"
   ]
  },
  {
   "cell_type": "code",
   "execution_count": 7,
   "id": "ea4eb3af",
   "metadata": {},
   "outputs": [
    {
     "name": "stdout",
     "output_type": "stream",
     "text": [
      "Index(['pos', 'artist_name', 'track_uri', 'artist_uri', 'track_name',\n",
      "       'album_uri', 'duration_ms', 'album_name', 'Genre', 'releaseYear'],\n",
      "      dtype='object')\n"
     ]
    }
   ],
   "source": [
    "print(df.columns)"
   ]
  },
  {
   "cell_type": "code",
   "execution_count": 8,
   "id": "cdad2f16",
   "metadata": {},
   "outputs": [
    {
     "name": "stdout",
     "output_type": "stream",
     "text": [
      "        releaseYear                        Genre\n",
      "36663        1981.0           new wave, synthpop\n",
      "55293        2015.0  southern hip hop, rap, trap\n",
      "124256          NaN         bachata, bachata pop\n",
      "95943        2011.0                acoustic rock\n",
      "56168        2013.0                        anime\n"
     ]
    }
   ],
   "source": [
    "import pandas as pd\n",
    "\n",
    "# Load the data\n",
    "df = pd.read_csv(\"final_data (1).csv\")\n",
    "\n",
    "# Create a subset (1/150th of the data)\n",
    "subset_data = df.sample(frac=1/150, random_state=42)\n",
    "\n",
    "# Now select the columns (adjust the column names as needed)\n",
    "X = subset_data[[\"releaseYear\", \"Genre\"]]\n",
    "\n",
    "print(X.head())"
   ]
  },
  {
   "cell_type": "code",
   "execution_count": 9,
   "id": "6c7f03df",
   "metadata": {},
   "outputs": [
    {
     "name": "stdout",
     "output_type": "stream",
     "text": [
      "Index(['pos', 'artist_name', 'track_uri', 'artist_uri', 'track_name',\n",
      "       'album_uri', 'duration_ms', 'album_name', 'Genre', 'releaseYear'],\n",
      "      dtype='object')\n"
     ]
    }
   ],
   "source": [
    "print(df.columns)"
   ]
  },
  {
   "cell_type": "code",
   "execution_count": 10,
   "id": "a85a7faf",
   "metadata": {},
   "outputs": [],
   "source": [
    "df.columns = df.columns.str.strip()"
   ]
  },
  {
   "cell_type": "code",
   "execution_count": 11,
   "id": "e36b72b9",
   "metadata": {},
   "outputs": [
    {
     "name": "stdout",
     "output_type": "stream",
     "text": [
      "Missing values in X_numeric:\n",
      "releaseYear      138\n",
      "Genre_encoded      0\n",
      "dtype: int64\n",
      "Cluster labels:\n",
      "[-1  0  1 -1 24 -1 -1 -1  4 -1  2  3 -1 -1 -1 -1  4  5 -1  6 -1  3 -1 22\n",
      " -1 -1 -1 -1 26 -1 34  3 -1 -1 -1  3  7 -1 -1 -1  2 -1 19  8 36 -1 -1 -1\n",
      "  9 28  1 -1 -1 -1 -1 10  7  3 -1 24 -1 -1 -1 11 -1 23 -1 -1 12 13 -1 22\n",
      " -1 -1 28 13 -1 -1 -1 -1 -1 -1 -1 -1 -1 14  3 -1 -1 15 -1 -1 -1 -1 -1 -1\n",
      "  6 24 -1 -1 -1 -1 -1 -1 -1 -1 -1 16 -1 -1 -1  3 -1 -1 30  3 17 -1  3 -1\n",
      " -1 -1  5 18 -1 -1 -1  7 -1  9  9 -1  3 -1 19 27 -1  7 26 -1 20 10 -1 10\n",
      " -1 21 -1 34 36  3 -1  9 -1 -1  6 13 35  7 -1 -1 -1 -1 -1 21 -1 -1 -1 14\n",
      " -1 -1 -1  3 -1 15 -1 -1 -1 -1 -1 10 -1 -1 21 25 22 19 -1 33 19 -1 21 -1\n",
      "  9 19 10 22  8 -1  8 -1 -1 -1 -1 18 -1 -1 -1 -1 20  3  0 28 -1 -1 -1 -1\n",
      " -1 -1 -1 -1 23 -1 -1 36 -1 23 12  3 -1 -1 -1  3 -1 -1 -1 19 -1 11 -1 12\n",
      " -1 -1 -1 15  7 12 24 -1 -1 25 -1 -1 30 -1 -1  3  7 -1 -1  9 -1 -1 -1 -1\n",
      " -1 -1 17 15 -1  5 -1 -1 14 -1 26 10 -1 18 26 -1 -1 -1  5 -1 27 -1  7 -1\n",
      " 22 28 10 -1 -1  6 -1 -1 -1 -1 15 12 14 -1 -1 -1 20 19  9 -1 19  9 -1 -1\n",
      "  8 -1 -1 -1 -1 -1  1 31 -1  1 10 -1 -1 -1  3  9  9 19 15 -1 -1 -1 15 -1\n",
      " 32 -1 10 -1  3 12 29 19 -1  3 24 -1 -1 -1 -1 -1 -1 25 -1 -1 19 -1 12  3\n",
      " -1 -1 15  9  3 -1 -1 -1 -1 32 13 -1 -1 -1 -1 -1 -1 -1 -1 -1 -1  9 17 -1\n",
      " 10 -1  5 -1 23 -1 -1 -1 -1 -1 -1  3  3  3 -1 -1  1 27  8 -1 -1  9 15 -1\n",
      "  3 25  1 29 -1  8 -1 16 -1 -1 -1 -1 -1 26 -1 -1 -1  2 -1 24 -1  1 -1 -1\n",
      " -1 -1 -1 -1  9 10  5 10 -1 -1 -1 -1 -1 32 -1 -1 17 -1  3 -1 10  8 -1 -1\n",
      "  7 12 -1 -1 21  3 -1  3  9 -1 -1 -1  3 10 -1 -1 -1 21 -1 -1 -1  8 -1 -1\n",
      " -1 -1 -1  7 -1 -1 -1 19 28 -1  9 24 -1 -1 -1 -1 -1 12 19  2 12 -1 -1 -1\n",
      " 19 -1 -1 -1 -1 -1  3  3 -1 -1 -1 -1 25 -1 -1 -1  3 -1 -1 -1 -1 -1  6  9\n",
      " -1 -1 -1  0 12 -1 13 -1 -1 -1 10 -1 -1 -1 29 -1 -1 -1 11 -1 -1 20  3 -1\n",
      " -1 -1 15 25 -1 -1 12  4 -1 -1 30 -1  8  6 12 18 -1 21 -1 29  3 -1  3 31\n",
      "  3 -1 12 19 10 -1  4 -1 -1 -1 -1 -1 -1 -1 -1 -1 -1 10 -1 -1 -1 -1 -1 30\n",
      " -1 -1 -1 -1 -1 -1 -1 -1 -1  7 -1 -1 -1  0 27 -1 -1 -1 33 34 -1 -1 11 25\n",
      " 12 -1 -1 -1 22 -1 19 31  7 24 -1 20 31 -1 -1 -1 -1  9 -1 32 10 19 21  3\n",
      " 25  3 19 -1 23 23 -1 -1 -1  5 15 -1 -1 11 -1 23 16 -1 -1 -1 -1 -1 -1 12\n",
      " 15 -1 -1  9 -1 -1 -1 -1 -1 -1 -1  9 -1 17 -1  3 16 -1 -1  8 -1 -1 -1 32\n",
      "  3  2 -1 -1  9 -1 15 -1 36 21 -1 33  3 34 -1 -1 -1 -1  3 33  0 -1 -1 -1\n",
      " 21  7 19 -1  7 -1 -1 -1 -1 16 27 13 -1 10 -1 -1 -1 -1  3 22 34  0 -1 21\n",
      " -1 35 -1 -1  3 -1 -1 -1 -1 -1  9 20 29 -1 -1 -1 26 -1 -1 -1 -1 18 -1 10\n",
      " -1 19 -1  3 -1 -1 30 -1 -1 -1 -1 -1  3 16 -1 -1 -1 -1 -1 -1 -1 20 -1  9\n",
      " 28 30 -1 -1 -1  5 18 10 36 -1 21 19 -1  5 -1  2 17 24 -1 31 -1 -1 14 35\n",
      " 21  5 19 -1 -1  7 -1 -1 -1 -1  7 -1 -1 -1 15 -1 10 10 -1 23 -1 -1  4 -1\n",
      " -1 33 -1 -1 -1]\n",
      "Cleaned data with clusters:\n",
      "        releaseYear  Genre_encoded  Cluster\n",
      "36663        1981.0            337       -1\n",
      "55293        2015.0            455        0\n",
      "95943        2011.0              2        1\n",
      "56168        2013.0             26       -1\n",
      "121487       2013.0            253       24\n"
     ]
    },
    {
     "name": "stderr",
     "output_type": "stream",
     "text": [
      "C:\\Users\\Epena5\\AppData\\Local\\Temp\\ipykernel_388\\2021155712.py:18: SettingWithCopyWarning: \n",
      "A value is trying to be set on a copy of a slice from a DataFrame.\n",
      "Try using .loc[row_indexer,col_indexer] = value instead\n",
      "\n",
      "See the caveats in the documentation: https://pandas.pydata.org/pandas-docs/stable/user_guide/indexing.html#returning-a-view-versus-a-copy\n",
      "  X[\"Genre_encoded\"] = le.fit_transform(X[\"Genre\"])\n"
     ]
    }
   ],
   "source": [
    "import pandas as pd\n",
    "import numpy as np\n",
    "from sklearn.cluster import DBSCAN\n",
    "from sklearn.preprocessing import LabelEncoder\n",
    "\n",
    "# Load the data\n",
    "df = pd.read_csv(\"final_data (1).csv\")\n",
    "\n",
    "# Create a subset (1/150th of the data)\n",
    "subset_data = df.sample(frac=1/150, random_state=42)\n",
    "\n",
    "# Select the columns (adjust the names as per your DataFrame)\n",
    "# Ensure the column names are exactly as they appear in your CSV file.\n",
    "X = subset_data[[\"releaseYear\", \"Genre\"]]\n",
    "\n",
    "# Convert the Genre column to numeric using Label Encoding\n",
    "le = LabelEncoder()\n",
    "X[\"Genre_encoded\"] = le.fit_transform(X[\"Genre\"])\n",
    "\n",
    "# Use releaseYear and the encoded Genre for clustering\n",
    "X_numeric = X[[\"releaseYear\", \"Genre_encoded\"]]\n",
    "\n",
    "# Check for missing or infinite values\n",
    "print(\"Missing values in X_numeric:\")\n",
    "print(X_numeric.isnull().sum())\n",
    "\n",
    "# Clean the data by replacing infinite values and dropping rows with NaN\n",
    "X_numeric_clean = X_numeric.replace([np.inf, -np.inf], np.nan).dropna()\n",
    "\n",
    "# Apply DBSCAN\n",
    "dbscan = DBSCAN(eps=3, min_samples=5)\n",
    "clusters = dbscan.fit_predict(X_numeric_clean)\n",
    "\n",
    "# Add the cluster labels to the cleaned data\n",
    "X_numeric_clean['Cluster'] = clusters\n",
    "\n",
    "print(\"Cluster labels:\")\n",
    "print(clusters)\n",
    "print(\"Cleaned data with clusters:\")\n",
    "print(X_numeric_clean.head())\n"
   ]
  },
  {
   "cell_type": "code",
   "execution_count": 12,
   "id": "a3a460a2",
   "metadata": {},
   "outputs": [],
   "source": [
    "# Option 1: Drop rows with NaN or infinite values\n",
    "X_numeric_clean = X_numeric.replace([np.inf, -np.inf], np.nan).dropna()\n",
    "\n",
    "# Option 2: Fill missing values (e.g., with the mean of the column)\n",
    "X_numeric_clean = X_numeric.replace([np.inf, -np.inf], np.nan).fillna(X_numeric.mean())"
   ]
  },
  {
   "cell_type": "code",
   "execution_count": 13,
   "id": "80e9c37b",
   "metadata": {},
   "outputs": [
    {
     "name": "stdout",
     "output_type": "stream",
     "text": [
      "Cluster labels: [ 0  1 -1  2 -1  3 29 -1  4 -1 -1  5 22  6  7 -1  4 -1 -1 -1  5  8 -1  9\n",
      " -1  4  7 10 -1 11 12 -1 -1 48 13 -1 17  7 -1 -1 -1  7 14 40 -1 -1 -1  6\n",
      " 15 16 13 46 -1 49 -1 17 18 19  2 59 -1  4 20 21 22 14  7 -1  3 23 -1 22\n",
      " 24 22 -1 25 -1  4 26 -1 27 28 22 11 -1 -1 29 19 28 53 -1 -1 -1 -1 30 -1\n",
      " -1 -1 31  7 -1 -1 22 32 -1 -1 -1 33 17 14  9  3 17 -1 -1 34 -1 -1 -1 -1\n",
      " -1 33 35 -1 -1 59 36  7 -1 -1 -1 63  7 37 65 36  7 29 -1 -1 23  8 38 -1\n",
      " -1 -1 14 -1 18 18 -1  7  7 -1 16 39 -1 14 13 -1 40 41 21 56 21 -1 42 17\n",
      " 17 36 46  7 -1 18 -1 -1  9 28 -1 17 42 14 -1 -1 10 25 13 -1 42 -1 60  9\n",
      " -1 31 15 -1 -1  7 26 15 32 -1 -1 -1 -1 -1 21 -1 34 42 22 11 -1 16 -1 43\n",
      " 16 -1 42 -1 18 36 16 21 11 13  4 -1 26 54 13 -1 -1 -1 -1 -1 38 -1 -1 -1\n",
      " -1 41 -1  7  1 19 64 50 -1 -1 -1 -1 63 -1 13 -1 25 23 44 -1 45  4 46 40\n",
      " 25 27  7 -1 15 -1  7 17  9 14 66 16 54 48 24 -1 27 -1 -1 -1 32 14 27 -1\n",
      "  3 44 -1 22 -1  9 63 17 -1 -1  7 14 -1 47 -1 18 57 48 59 66 61 -1 37 33\n",
      " 32 -1  8 -1 49 31 50 -1 -1 13 21 51 38 13 -1 -1 19  8 17 39 16 14 -1 11\n",
      " 64 19 17 21 -1 20  9 -1 -1 40 52 61 -1 32 27 -1 31 45 53 -1 41 16 18 33\n",
      " 17 -1 16 18  9 54 -1 13 25 42 -1 -1 -1 -1  2 55  9  2 21  4 -1 -1 -1  7\n",
      " 18 18 16 32 -1 -1 -1 32 -1 67 -1 21 -1  7 27 56 16 36  7  3 44 19 66 30\n",
      " -1 -1 22 -1 -1 16 -1 27  7 -1 60 32 18  7 -1 -1 14 -1 49 -1 67 28 49 -1\n",
      " -1 -1 57 -1 -1 -1 -1 55 -1 18 37 -1 21 30  8 -1 25 -1 -1 10 15 -1 -1 47\n",
      "  7  7  7 -1 12 29 -1  7  2 39 13 -1 -1 -1 18 32 -1  7 22 33  2  9 56 25\n",
      " 13 -1 35 -1 -1 -1 19 17 13 50 -1 -1  6 -1  3 -1  2 -1 -1 -1 -1 -1 -1 18\n",
      " 45 21 12  8 21 -1 23 -1 -1 -1 -1 67 -1 -1 37 -1 -1  7 -1 65 21 13 -1 -1\n",
      " 14 27 20 -1 42 26  7 -1  7 18 53 15  9  7 21 64 -1 -1 42 -1 -1 -1 13 -1\n",
      " -1 58 17 -1 -1 14 22 -1 -1 -1 16 19 -1 18  3 -1 -1 63 -1 -1 -1 27 16  6\n",
      " 29 27 -1 50 -1 16 59 -1 -1 68 -1  7  7 20 29 68 -1 22 -1 47 -1 -1  7 -1\n",
      " -1 -1 60 -1 65  9 18 -1 -1 -1 -1  1 27 13  9 28 61 22 -1 -1 21 17 -1 -1\n",
      " 62 50 56 53 52 -1 24 13 -1 41  7 -1 -1 29 32 22 -1 -1 27  5 -1 15 33 63\n",
      " -1 13  9 27 38 -1 42 -1 56  7 -1  7 55  7 -1 27 -1 16 29 21 51  5 53 44\n",
      " -1 62 51 -1 -1 -1 -1  0 54 -1 14 -1 -1 -1 -1 -1 -1 -1 63 -1 61 -1 -1 -1\n",
      " 29 -1 -1 -1  0 14 10 -1 -1 17  1 39 -1  4  4 -1 29 43 -1 17 -1 -1 24 22\n",
      " 27 64  4 12 -1 -1 -1 33 11 30 -1 16 55 14  3 -1 41 55 -1 13 -1 16 18 45\n",
      " 67 21 16 -1 42  7 22  7 16 -1 25 25 51 -1 -1  8 65 32 -1 -1 24 -1 25 35\n",
      " -1 -1 -1 -1 -1 -1 34 27 32 45 -1 33 33 18 43 58 -1 -1 -1 20 -1 -1 18 -1\n",
      " 37 -1  7 35 -1 22 14 44 60 13 -1 -1 66 67  7  6 44 47 -1 -1 11 33 18 -1\n",
      " 15 32 -1 46 42 -1 43  7 54 17  0 -1 -1 54 -1  7 43 45  1 -1 -1 -1 42 14\n",
      " 16 29 36 14 -1 -1 -1 -1 35 39 28 -1 21 -1 57 22 -1 -1  7 11 17  1 -1 42\n",
      " -1 42 33 68  7 -1 -1 -1 33 15 18 41 56 -1 -1 63 -1 13 -1 -1 -1 -1 38 -1\n",
      " 21 -1 16 -1  7 52 12 63 -1 47 -1 33 -1  7 35 -1 -1 33 29 22 -1 -1 41 -1\n",
      " 33 58 18 19 63 26 -1 68 -1 33  8 38 21 46 44 42 16 -1  8 64  6 37  3 -1\n",
      " 58 62 -1 55 52 -1 63 31 42 42  8 16 -1 -1 14 29 54 34 -1 -1 15 42 14 -1\n",
      " 48 62 32 36  4 21 21 57 -1 25 29 -1 29 -1 63  5 -1 -1 43 29 -1 -1 -1]\n"
     ]
    }
   ],
   "source": [
    "from sklearn.cluster import DBSCAN\n",
    "\n",
    "dbscan = DBSCAN(eps=3, min_samples=4)\n",
    "clusters = dbscan.fit_predict(X_numeric_clean)\n",
    "\n",
    "# If you want to merge cluster labels back to your original data,\n",
    "# make sure the indices match or reset the index.\n",
    "print(\"Cluster labels:\", clusters)"
   ]
  },
  {
   "cell_type": "code",
   "execution_count": 14,
   "id": "ac1c0df4",
   "metadata": {},
   "outputs": [
    {
     "name": "stdout",
     "output_type": "stream",
     "text": [
      "Missing values:\n",
      " releaseYear      138\n",
      "Genre_encoded      0\n",
      "dtype: int64\n",
      "Cluster labels: [-1  0  1 -1 24 -1 -1 -1  4 -1  2  3 -1 -1 -1 -1  4  5 -1  6 -1  3 -1 22\n",
      " -1 -1 -1 -1 26 -1 34  3 -1 -1 -1  3  7 -1 -1 -1  2 -1 19  8 36 -1 -1 -1\n",
      "  9 28  1 -1 -1 -1 -1 10  7  3 -1 24 -1 -1 -1 11 -1 23 -1 -1 12 13 -1 22\n",
      " -1 -1 28 13 -1 -1 -1 -1 -1 -1 -1 -1 -1 14  3 -1 -1 15 -1 -1 -1 -1 -1 -1\n",
      "  6 24 -1 -1 -1 -1 -1 -1 -1 -1 -1 16 -1 -1 -1  3 -1 -1 30  3 17 -1  3 -1\n",
      " -1 -1  5 18 -1 -1 -1  7 -1  9  9 -1  3 -1 19 27 -1  7 26 -1 20 10 -1 10\n",
      " -1 21 -1 34 36  3 -1  9 -1 -1  6 13 35  7 -1 -1 -1 -1 -1 21 -1 -1 -1 14\n",
      " -1 -1 -1  3 -1 15 -1 -1 -1 -1 -1 10 -1 -1 21 25 22 19 -1 33 19 -1 21 -1\n",
      "  9 19 10 22  8 -1  8 -1 -1 -1 -1 18 -1 -1 -1 -1 20  3  0 28 -1 -1 -1 -1\n",
      " -1 -1 -1 -1 23 -1 -1 36 -1 23 12  3 -1 -1 -1  3 -1 -1 -1 19 -1 11 -1 12\n",
      " -1 -1 -1 15  7 12 24 -1 -1 25 -1 -1 30 -1 -1  3  7 -1 -1  9 -1 -1 -1 -1\n",
      " -1 -1 17 15 -1  5 -1 -1 14 -1 26 10 -1 18 26 -1 -1 -1  5 -1 27 -1  7 -1\n",
      " 22 28 10 -1 -1  6 -1 -1 -1 -1 15 12 14 -1 -1 -1 20 19  9 -1 19  9 -1 -1\n",
      "  8 -1 -1 -1 -1 -1  1 31 -1  1 10 -1 -1 -1  3  9  9 19 15 -1 -1 -1 15 -1\n",
      " 32 -1 10 -1  3 12 29 19 -1  3 24 -1 -1 -1 -1 -1 -1 25 -1 -1 19 -1 12  3\n",
      " -1 -1 15  9  3 -1 -1 -1 -1 32 13 -1 -1 -1 -1 -1 -1 -1 -1 -1 -1  9 17 -1\n",
      " 10 -1  5 -1 23 -1 -1 -1 -1 -1 -1  3  3  3 -1 -1  1 27  8 -1 -1  9 15 -1\n",
      "  3 25  1 29 -1  8 -1 16 -1 -1 -1 -1 -1 26 -1 -1 -1  2 -1 24 -1  1 -1 -1\n",
      " -1 -1 -1 -1  9 10  5 10 -1 -1 -1 -1 -1 32 -1 -1 17 -1  3 -1 10  8 -1 -1\n",
      "  7 12 -1 -1 21  3 -1  3  9 -1 -1 -1  3 10 -1 -1 -1 21 -1 -1 -1  8 -1 -1\n",
      " -1 -1 -1  7 -1 -1 -1 19 28 -1  9 24 -1 -1 -1 -1 -1 12 19  2 12 -1 -1 -1\n",
      " 19 -1 -1 -1 -1 -1  3  3 -1 -1 -1 -1 25 -1 -1 -1  3 -1 -1 -1 -1 -1  6  9\n",
      " -1 -1 -1  0 12 -1 13 -1 -1 -1 10 -1 -1 -1 29 -1 -1 -1 11 -1 -1 20  3 -1\n",
      " -1 -1 15 25 -1 -1 12  4 -1 -1 30 -1  8  6 12 18 -1 21 -1 29  3 -1  3 31\n",
      "  3 -1 12 19 10 -1  4 -1 -1 -1 -1 -1 -1 -1 -1 -1 -1 10 -1 -1 -1 -1 -1 30\n",
      " -1 -1 -1 -1 -1 -1 -1 -1 -1  7 -1 -1 -1  0 27 -1 -1 -1 33 34 -1 -1 11 25\n",
      " 12 -1 -1 -1 22 -1 19 31  7 24 -1 20 31 -1 -1 -1 -1  9 -1 32 10 19 21  3\n",
      " 25  3 19 -1 23 23 -1 -1 -1  5 15 -1 -1 11 -1 23 16 -1 -1 -1 -1 -1 -1 12\n",
      " 15 -1 -1  9 -1 -1 -1 -1 -1 -1 -1  9 -1 17 -1  3 16 -1 -1  8 -1 -1 -1 32\n",
      "  3  2 -1 -1  9 -1 15 -1 36 21 -1 33  3 34 -1 -1 -1 -1  3 33  0 -1 -1 -1\n",
      " 21  7 19 -1  7 -1 -1 -1 -1 16 27 13 -1 10 -1 -1 -1 -1  3 22 34  0 -1 21\n",
      " -1 35 -1 -1  3 -1 -1 -1 -1 -1  9 20 29 -1 -1 -1 26 -1 -1 -1 -1 18 -1 10\n",
      " -1 19 -1  3 -1 -1 30 -1 -1 -1 -1 -1  3 16 -1 -1 -1 -1 -1 -1 -1 20 -1  9\n",
      " 28 30 -1 -1 -1  5 18 10 36 -1 21 19 -1  5 -1  2 17 24 -1 31 -1 -1 14 35\n",
      " 21  5 19 -1 -1  7 -1 -1 -1 -1  7 -1 -1 -1 15 -1 10 10 -1 23 -1 -1  4 -1\n",
      " -1 33 -1 -1 -1]\n",
      "Cleaned data with clusters:\n",
      "         releaseYear  Genre_encoded  Cluster\n",
      "36663        1981.0            337       -1\n",
      "55293        2015.0            455        0\n",
      "95943        2011.0              2        1\n",
      "56168        2013.0             26       -1\n",
      "121487       2013.0            253       24\n"
     ]
    },
    {
     "name": "stderr",
     "output_type": "stream",
     "text": [
      "C:\\Users\\Epena5\\AppData\\Local\\Temp\\ipykernel_388\\281010574.py:17: SettingWithCopyWarning: \n",
      "A value is trying to be set on a copy of a slice from a DataFrame.\n",
      "Try using .loc[row_indexer,col_indexer] = value instead\n",
      "\n",
      "See the caveats in the documentation: https://pandas.pydata.org/pandas-docs/stable/user_guide/indexing.html#returning-a-view-versus-a-copy\n",
      "  X[\"Genre_encoded\"] = le.fit_transform(X[\"Genre\"])\n"
     ]
    }
   ],
   "source": [
    "import pandas as pd\n",
    "import numpy as np\n",
    "from sklearn.cluster import DBSCAN\n",
    "from sklearn.preprocessing import LabelEncoder\n",
    "\n",
    "# Load the data\n",
    "df = pd.read_csv(\"final_data (1).csv\")\n",
    "\n",
    "# Create a subset (1/150th of the data)\n",
    "subset_data = df.sample(frac=1/150, random_state=42)\n",
    "\n",
    "# Select the columns (adjust the names as per your DataFrame)\n",
    "X = subset_data[[\"releaseYear\", \"Genre\"]]\n",
    "\n",
    "# Convert the Genre column to numeric using Label Encoding\n",
    "le = LabelEncoder()\n",
    "X[\"Genre_encoded\"] = le.fit_transform(X[\"Genre\"])\n",
    "\n",
    "# Use releaseYear and the encoded Genre for clustering\n",
    "X_numeric = X[[\"releaseYear\", \"Genre_encoded\"]]\n",
    "\n",
    "# Check for missing or infinite values\n",
    "print(\"Missing values:\\n\", X_numeric.isnull().sum())\n",
    "\n",
    "# Clean the data by replacing infinite values and dropping rows with NaN\n",
    "X_numeric_clean = X_numeric.replace([np.inf, -np.inf], np.nan).dropna()\n",
    "\n",
    "# Apply DBSCAN\n",
    "dbscan = DBSCAN(eps=3, min_samples=5)\n",
    "clusters = dbscan.fit_predict(X_numeric_clean)\n",
    "\n",
    "# Add the cluster labels to the cleaned subset data (if desired)\n",
    "X_numeric_clean['Cluster'] = clusters\n",
    "\n",
    "print(\"Cluster labels:\", clusters)\n",
    "print(\"Cleaned data with clusters:\\n\", X_numeric_clean.head())\n"
   ]
  },
  {
   "cell_type": "code",
   "execution_count": 16,
   "id": "8c9b11e5",
   "metadata": {},
   "outputs": [
    {
     "name": "stdout",
     "output_type": "stream",
     "text": [
      "Defaulting to user installation because normal site-packages is not writeable\n",
      "Collecting hdbscan\n",
      "  Downloading hdbscan-0.8.40-cp39-cp39-win_amd64.whl (811 kB)\n",
      "     -------------------------------------- 811.2/811.2 kB 2.4 MB/s eta 0:00:00\n",
      "Requirement already satisfied: numpy<3,>=1.20 in c:\\programdata\\anaconda3\\lib\\site-packages (from hdbscan) (1.21.5)\n",
      "Requirement already satisfied: scikit-learn>=0.20 in c:\\programdata\\anaconda3\\lib\\site-packages (from hdbscan) (1.0.2)\n",
      "Requirement already satisfied: joblib>=1.0 in c:\\programdata\\anaconda3\\lib\\site-packages (from hdbscan) (1.1.0)\n",
      "Requirement already satisfied: scipy>=1.0 in c:\\programdata\\anaconda3\\lib\\site-packages (from hdbscan) (1.9.1)\n",
      "Requirement already satisfied: threadpoolctl>=2.0.0 in c:\\programdata\\anaconda3\\lib\\site-packages (from scikit-learn>=0.20->hdbscan) (2.2.0)\n",
      "Installing collected packages: hdbscan\n",
      "Successfully installed hdbscan-0.8.40\n"
     ]
    }
   ],
   "source": [
    "!pip install hdbscan"
   ]
  },
  {
   "cell_type": "code",
   "execution_count": 17,
   "id": "7ffe4050",
   "metadata": {},
   "outputs": [
    {
     "name": "stdout",
     "output_type": "stream",
     "text": [
      "Clustering complete! Unique clusters found: [  -1    0    1 ... 7119 7120 7121]\n"
     ]
    }
   ],
   "source": [
    "import numpy as np\n",
    "import pandas as pd\n",
    "from sklearn.preprocessing import LabelEncoder, StandardScaler\n",
    "from sklearn.decomposition import PCA\n",
    "from sklearn.cluster import DBSCAN\n",
    "import hdbscan\n",
    "\n",
    "# Load dataset (replace with your actual dataset)\n",
    "df = pd.read_csv(\"final_data (1).csv\")\n",
    "\n",
    "# Select relevant features (replace 'releaseYear' and 'Genre' with actual column names)\n",
    "X = df[['releaseYear', 'Genre']].copy()\n",
    "\n",
    "# Handle missing values\n",
    "X = X.dropna()  # Optionally, use .fillna() instead\n",
    "\n",
    "# Encode categorical variables\n",
    "le = LabelEncoder()\n",
    "X['Genre_encoded'] = le.fit_transform(X['Genre'])\n",
    "\n",
    "# Select numeric features\n",
    "X_numeric = X[['releaseYear', 'Genre_encoded']]\n",
    "\n",
    "# Scale data\n",
    "scaler = StandardScaler()\n",
    "X_scaled = scaler.fit_transform(X_numeric)\n",
    "\n",
    "# Reduce dimensionality to speed up DBSCAN\n",
    "pca = PCA(n_components=2)\n",
    "X_reduced = pca.fit_transform(X_scaled)\n",
    "\n",
    "# Apply HDBSCAN (more efficient for large datasets)\n",
    "hdb = hdbscan.HDBSCAN(min_cluster_size=5)\n",
    "clusters = hdb.fit_predict(X_reduced)\n",
    "\n",
    "# Add cluster labels to the dataset\n",
    "X['Cluster'] = clusters\n",
    "\n",
    "# Save results\n",
    "X.to_csv(\"clustered_data.csv\", index=False)\n",
    "\n",
    "# Print summary\n",
    "print(\"Clustering complete! Unique clusters found:\", np.unique(clusters))\n"
   ]
  },
  {
   "cell_type": "code",
   "execution_count": 19,
   "id": "457bd16f",
   "metadata": {},
   "outputs": [
    {
     "name": "stdout",
     "output_type": "stream",
     "text": [
      "Silhouette Score: 0.6502810262148624\n"
     ]
    }
   ],
   "source": [
    "from sklearn.metrics import silhouette_score\n",
    "\n",
    "\n",
    "# Remove noise points (-1 label) before calculating the Silhouette Score\n",
    "valid_clusters = X_numeric_clean[X_numeric_clean['Cluster'] != -1]\n",
    "\n",
    "# Extract data points and corresponding labels\n",
    "X_valid = valid_clusters[[\"releaseYear\", \"Genre_encoded\"]]\n",
    "labels_valid = valid_clusters[\"Cluster\"]\n",
    "\n",
    "# Compute the Silhouette Score (only if there are at least 2 clusters)\n",
    "if len(set(labels_valid)) > 1:\n",
    "    sil_score = silhouette_score(X_valid, labels_valid)\n",
    "    print(f\"Silhouette Score: {sil_score}\")\n",
    "else:\n",
    "    print(\"Silhouette Score cannot be calculated (only one cluster found).\")\n"
   ]
  },
  {
   "cell_type": "code",
   "execution_count": 20,
   "id": "1faa3571",
   "metadata": {},
   "outputs": [
    {
     "ename": "TypeError",
     "evalue": "cannot do positional indexing on RangeIndex with these indexers [artist_name] of type str",
     "output_type": "error",
     "traceback": [
      "\u001b[1;31m---------------------------------------------------------------------------\u001b[0m",
      "\u001b[1;31mTypeError\u001b[0m                                 Traceback (most recent call last)",
      "\u001b[1;32m~\\AppData\\Local\\Temp\\ipykernel_388\\3817346318.py\u001b[0m in \u001b[0;36m<module>\u001b[1;34m\u001b[0m\n\u001b[1;32m----> 1\u001b[1;33m \u001b[0mdf\u001b[0m\u001b[1;33m.\u001b[0m\u001b[0mhead\u001b[0m\u001b[1;33m(\u001b[0m\u001b[1;34m\"artist_name\"\u001b[0m\u001b[1;33m)\u001b[0m\u001b[1;33m\u001b[0m\u001b[1;33m\u001b[0m\u001b[0m\n\u001b[0m",
      "\u001b[1;32mC:\\ProgramData\\Anaconda3\\lib\\site-packages\\pandas\\core\\generic.py\u001b[0m in \u001b[0;36mhead\u001b[1;34m(self, n)\u001b[0m\n\u001b[0;32m   5220\u001b[0m         \u001b[1;36m5\u001b[0m     \u001b[0mparrot\u001b[0m\u001b[1;33m\u001b[0m\u001b[1;33m\u001b[0m\u001b[0m\n\u001b[0;32m   5221\u001b[0m         \"\"\"\n\u001b[1;32m-> 5222\u001b[1;33m         \u001b[1;32mreturn\u001b[0m \u001b[0mself\u001b[0m\u001b[1;33m.\u001b[0m\u001b[0miloc\u001b[0m\u001b[1;33m[\u001b[0m\u001b[1;33m:\u001b[0m\u001b[0mn\u001b[0m\u001b[1;33m]\u001b[0m\u001b[1;33m\u001b[0m\u001b[1;33m\u001b[0m\u001b[0m\n\u001b[0m\u001b[0;32m   5223\u001b[0m \u001b[1;33m\u001b[0m\u001b[0m\n\u001b[0;32m   5224\u001b[0m     \u001b[1;33m@\u001b[0m\u001b[0mfinal\u001b[0m\u001b[1;33m\u001b[0m\u001b[1;33m\u001b[0m\u001b[0m\n",
      "\u001b[1;32mC:\\ProgramData\\Anaconda3\\lib\\site-packages\\pandas\\core\\indexing.py\u001b[0m in \u001b[0;36m__getitem__\u001b[1;34m(self, key)\u001b[0m\n\u001b[0;32m    965\u001b[0m \u001b[1;33m\u001b[0m\u001b[0m\n\u001b[0;32m    966\u001b[0m             \u001b[0mmaybe_callable\u001b[0m \u001b[1;33m=\u001b[0m \u001b[0mcom\u001b[0m\u001b[1;33m.\u001b[0m\u001b[0mapply_if_callable\u001b[0m\u001b[1;33m(\u001b[0m\u001b[0mkey\u001b[0m\u001b[1;33m,\u001b[0m \u001b[0mself\u001b[0m\u001b[1;33m.\u001b[0m\u001b[0mobj\u001b[0m\u001b[1;33m)\u001b[0m\u001b[1;33m\u001b[0m\u001b[1;33m\u001b[0m\u001b[0m\n\u001b[1;32m--> 967\u001b[1;33m             \u001b[1;32mreturn\u001b[0m \u001b[0mself\u001b[0m\u001b[1;33m.\u001b[0m\u001b[0m_getitem_axis\u001b[0m\u001b[1;33m(\u001b[0m\u001b[0mmaybe_callable\u001b[0m\u001b[1;33m,\u001b[0m \u001b[0maxis\u001b[0m\u001b[1;33m=\u001b[0m\u001b[0maxis\u001b[0m\u001b[1;33m)\u001b[0m\u001b[1;33m\u001b[0m\u001b[1;33m\u001b[0m\u001b[0m\n\u001b[0m\u001b[0;32m    968\u001b[0m \u001b[1;33m\u001b[0m\u001b[0m\n\u001b[0;32m    969\u001b[0m     \u001b[1;32mdef\u001b[0m \u001b[0m_is_scalar_access\u001b[0m\u001b[1;33m(\u001b[0m\u001b[0mself\u001b[0m\u001b[1;33m,\u001b[0m \u001b[0mkey\u001b[0m\u001b[1;33m:\u001b[0m \u001b[0mtuple\u001b[0m\u001b[1;33m)\u001b[0m\u001b[1;33m:\u001b[0m\u001b[1;33m\u001b[0m\u001b[1;33m\u001b[0m\u001b[0m\n",
      "\u001b[1;32mC:\\ProgramData\\Anaconda3\\lib\\site-packages\\pandas\\core\\indexing.py\u001b[0m in \u001b[0;36m_getitem_axis\u001b[1;34m(self, key, axis)\u001b[0m\n\u001b[0;32m   1498\u001b[0m \u001b[1;33m\u001b[0m\u001b[0m\n\u001b[0;32m   1499\u001b[0m         \u001b[1;32mif\u001b[0m \u001b[0misinstance\u001b[0m\u001b[1;33m(\u001b[0m\u001b[0mkey\u001b[0m\u001b[1;33m,\u001b[0m \u001b[0mslice\u001b[0m\u001b[1;33m)\u001b[0m\u001b[1;33m:\u001b[0m\u001b[1;33m\u001b[0m\u001b[1;33m\u001b[0m\u001b[0m\n\u001b[1;32m-> 1500\u001b[1;33m             \u001b[1;32mreturn\u001b[0m \u001b[0mself\u001b[0m\u001b[1;33m.\u001b[0m\u001b[0m_get_slice_axis\u001b[0m\u001b[1;33m(\u001b[0m\u001b[0mkey\u001b[0m\u001b[1;33m,\u001b[0m \u001b[0maxis\u001b[0m\u001b[1;33m=\u001b[0m\u001b[0maxis\u001b[0m\u001b[1;33m)\u001b[0m\u001b[1;33m\u001b[0m\u001b[1;33m\u001b[0m\u001b[0m\n\u001b[0m\u001b[0;32m   1501\u001b[0m \u001b[1;33m\u001b[0m\u001b[0m\n\u001b[0;32m   1502\u001b[0m         \u001b[1;32mif\u001b[0m \u001b[0mis_iterator\u001b[0m\u001b[1;33m(\u001b[0m\u001b[0mkey\u001b[0m\u001b[1;33m)\u001b[0m\u001b[1;33m:\u001b[0m\u001b[1;33m\u001b[0m\u001b[1;33m\u001b[0m\u001b[0m\n",
      "\u001b[1;32mC:\\ProgramData\\Anaconda3\\lib\\site-packages\\pandas\\core\\indexing.py\u001b[0m in \u001b[0;36m_get_slice_axis\u001b[1;34m(self, slice_obj, axis)\u001b[0m\n\u001b[0;32m   1533\u001b[0m \u001b[1;33m\u001b[0m\u001b[0m\n\u001b[0;32m   1534\u001b[0m         \u001b[0mlabels\u001b[0m \u001b[1;33m=\u001b[0m \u001b[0mobj\u001b[0m\u001b[1;33m.\u001b[0m\u001b[0m_get_axis\u001b[0m\u001b[1;33m(\u001b[0m\u001b[0maxis\u001b[0m\u001b[1;33m)\u001b[0m\u001b[1;33m\u001b[0m\u001b[1;33m\u001b[0m\u001b[0m\n\u001b[1;32m-> 1535\u001b[1;33m         \u001b[0mlabels\u001b[0m\u001b[1;33m.\u001b[0m\u001b[0m_validate_positional_slice\u001b[0m\u001b[1;33m(\u001b[0m\u001b[0mslice_obj\u001b[0m\u001b[1;33m)\u001b[0m\u001b[1;33m\u001b[0m\u001b[1;33m\u001b[0m\u001b[0m\n\u001b[0m\u001b[0;32m   1536\u001b[0m         \u001b[1;32mreturn\u001b[0m \u001b[0mself\u001b[0m\u001b[1;33m.\u001b[0m\u001b[0mobj\u001b[0m\u001b[1;33m.\u001b[0m\u001b[0m_slice\u001b[0m\u001b[1;33m(\u001b[0m\u001b[0mslice_obj\u001b[0m\u001b[1;33m,\u001b[0m \u001b[0maxis\u001b[0m\u001b[1;33m=\u001b[0m\u001b[0maxis\u001b[0m\u001b[1;33m)\u001b[0m\u001b[1;33m\u001b[0m\u001b[1;33m\u001b[0m\u001b[0m\n\u001b[0;32m   1537\u001b[0m \u001b[1;33m\u001b[0m\u001b[0m\n",
      "\u001b[1;32mC:\\ProgramData\\Anaconda3\\lib\\site-packages\\pandas\\core\\indexes\\base.py\u001b[0m in \u001b[0;36m_validate_positional_slice\u001b[1;34m(self, key)\u001b[0m\n\u001b[0;32m   4018\u001b[0m         \"\"\"\n\u001b[0;32m   4019\u001b[0m         \u001b[0mself\u001b[0m\u001b[1;33m.\u001b[0m\u001b[0m_validate_indexer\u001b[0m\u001b[1;33m(\u001b[0m\u001b[1;34m\"positional\"\u001b[0m\u001b[1;33m,\u001b[0m \u001b[0mkey\u001b[0m\u001b[1;33m.\u001b[0m\u001b[0mstart\u001b[0m\u001b[1;33m,\u001b[0m \u001b[1;34m\"iloc\"\u001b[0m\u001b[1;33m)\u001b[0m\u001b[1;33m\u001b[0m\u001b[1;33m\u001b[0m\u001b[0m\n\u001b[1;32m-> 4020\u001b[1;33m         \u001b[0mself\u001b[0m\u001b[1;33m.\u001b[0m\u001b[0m_validate_indexer\u001b[0m\u001b[1;33m(\u001b[0m\u001b[1;34m\"positional\"\u001b[0m\u001b[1;33m,\u001b[0m \u001b[0mkey\u001b[0m\u001b[1;33m.\u001b[0m\u001b[0mstop\u001b[0m\u001b[1;33m,\u001b[0m \u001b[1;34m\"iloc\"\u001b[0m\u001b[1;33m)\u001b[0m\u001b[1;33m\u001b[0m\u001b[1;33m\u001b[0m\u001b[0m\n\u001b[0m\u001b[0;32m   4021\u001b[0m         \u001b[0mself\u001b[0m\u001b[1;33m.\u001b[0m\u001b[0m_validate_indexer\u001b[0m\u001b[1;33m(\u001b[0m\u001b[1;34m\"positional\"\u001b[0m\u001b[1;33m,\u001b[0m \u001b[0mkey\u001b[0m\u001b[1;33m.\u001b[0m\u001b[0mstep\u001b[0m\u001b[1;33m,\u001b[0m \u001b[1;34m\"iloc\"\u001b[0m\u001b[1;33m)\u001b[0m\u001b[1;33m\u001b[0m\u001b[1;33m\u001b[0m\u001b[0m\n\u001b[0;32m   4022\u001b[0m \u001b[1;33m\u001b[0m\u001b[0m\n",
      "\u001b[1;32mC:\\ProgramData\\Anaconda3\\lib\\site-packages\\pandas\\core\\indexes\\base.py\u001b[0m in \u001b[0;36m_validate_indexer\u001b[1;34m(self, form, key, kind)\u001b[0m\n\u001b[0;32m   6320\u001b[0m \u001b[1;33m\u001b[0m\u001b[0m\n\u001b[0;32m   6321\u001b[0m         \u001b[1;32mif\u001b[0m \u001b[0mkey\u001b[0m \u001b[1;32mis\u001b[0m \u001b[1;32mnot\u001b[0m \u001b[1;32mNone\u001b[0m \u001b[1;32mand\u001b[0m \u001b[1;32mnot\u001b[0m \u001b[0mis_integer\u001b[0m\u001b[1;33m(\u001b[0m\u001b[0mkey\u001b[0m\u001b[1;33m)\u001b[0m\u001b[1;33m:\u001b[0m\u001b[1;33m\u001b[0m\u001b[1;33m\u001b[0m\u001b[0m\n\u001b[1;32m-> 6322\u001b[1;33m             \u001b[1;32mraise\u001b[0m \u001b[0mself\u001b[0m\u001b[1;33m.\u001b[0m\u001b[0m_invalid_indexer\u001b[0m\u001b[1;33m(\u001b[0m\u001b[0mform\u001b[0m\u001b[1;33m,\u001b[0m \u001b[0mkey\u001b[0m\u001b[1;33m)\u001b[0m\u001b[1;33m\u001b[0m\u001b[1;33m\u001b[0m\u001b[0m\n\u001b[0m\u001b[0;32m   6323\u001b[0m \u001b[1;33m\u001b[0m\u001b[0m\n\u001b[0;32m   6324\u001b[0m     \u001b[1;32mdef\u001b[0m \u001b[0m_maybe_cast_slice_bound\u001b[0m\u001b[1;33m(\u001b[0m\u001b[0mself\u001b[0m\u001b[1;33m,\u001b[0m \u001b[0mlabel\u001b[0m\u001b[1;33m,\u001b[0m \u001b[0mside\u001b[0m\u001b[1;33m:\u001b[0m \u001b[0mstr_t\u001b[0m\u001b[1;33m,\u001b[0m \u001b[0mkind\u001b[0m\u001b[1;33m=\u001b[0m\u001b[0mno_default\u001b[0m\u001b[1;33m)\u001b[0m\u001b[1;33m:\u001b[0m\u001b[1;33m\u001b[0m\u001b[1;33m\u001b[0m\u001b[0m\n",
      "\u001b[1;31mTypeError\u001b[0m: cannot do positional indexing on RangeIndex with these indexers [artist_name] of type str"
     ]
    }
   ],
   "source": []
  },
  {
   "cell_type": "code",
   "execution_count": null,
   "id": "9098f1db",
   "metadata": {},
   "outputs": [],
   "source": []
  }
 ],
 "metadata": {
  "kernelspec": {
   "display_name": "Python 3 (ipykernel)",
   "language": "python",
   "name": "python3"
  },
  "language_info": {
   "codemirror_mode": {
    "name": "ipython",
    "version": 3
   },
   "file_extension": ".py",
   "mimetype": "text/x-python",
   "name": "python",
   "nbconvert_exporter": "python",
   "pygments_lexer": "ipython3",
   "version": "3.9.13"
  }
 },
 "nbformat": 4,
 "nbformat_minor": 5
}
